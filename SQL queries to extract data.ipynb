{
    "metadata": {
        "kernelspec": {
            "name": "SQL",
            "display_name": "SQL",
            "language": "sql"
        },
        "language_info": {
            "name": "sql",
            "version": ""
        }
    },
    "nbformat_minor": 2,
    "nbformat": 4,
    "cells": [
        {
            "cell_type": "markdown",
            "source": [
                "# This Project represents the analysis of the top 10 economies of the world and the comparison between different aspects."
            ],
            "metadata": {
                "azdata_cell_guid": "217d8a40-fbec-46f4-8be0-e93cca92933b"
            },
            "attachments": {}
        },
        {
            "cell_type": "markdown",
            "source": [
                "## Top 10 Economies Of The World"
            ],
            "metadata": {
                "azdata_cell_guid": "690559c9-5312-40dd-b331-5c9ecccdde74"
            },
            "attachments": {}
        },
        {
            "cell_type": "code",
            "source": [
                "Select TOP 10 Country_Name as 'Country Name', round((GDP/1000000000000),2) as 'GDP In Trillon'\r\n",
                "from Countries\r\n",
                "where Year = 2022\r\n",
                "order by 2 desc"
            ],
            "metadata": {
                "azdata_cell_guid": "3b931f2b-8588-4ac6-b2ec-f7ce1cb85a80",
                "language": "sql"
            },
            "outputs": [
                {
                    "output_type": "display_data",
                    "data": {
                        "text/html": "(10 rows affected)"
                    },
                    "metadata": {}
                },
                {
                    "output_type": "display_data",
                    "data": {
                        "text/html": "Total execution time: 00:00:00.011"
                    },
                    "metadata": {}
                },
                {
                    "output_type": "execute_result",
                    "metadata": {},
                    "execution_count": 4,
                    "data": {
                        "application/vnd.dataresource+json": {
                            "schema": {
                                "fields": [
                                    {
                                        "name": "Country Name"
                                    },
                                    {
                                        "name": "GDP In Trillon"
                                    }
                                ]
                            },
                            "data": [
                                {
                                    "Country Name": "United States",
                                    "GDP In Trillon": "25.46"
                                },
                                {
                                    "Country Name": "China",
                                    "GDP In Trillon": "17.96"
                                },
                                {
                                    "Country Name": "Japan",
                                    "GDP In Trillon": "4.23"
                                },
                                {
                                    "Country Name": "Germany",
                                    "GDP In Trillon": "4.07"
                                },
                                {
                                    "Country Name": "India",
                                    "GDP In Trillon": "3.39"
                                },
                                {
                                    "Country Name": "United Kingdom",
                                    "GDP In Trillon": "3.07"
                                },
                                {
                                    "Country Name": "France",
                                    "GDP In Trillon": "2.78"
                                },
                                {
                                    "Country Name": "Russian Federation",
                                    "GDP In Trillon": "2.24"
                                },
                                {
                                    "Country Name": "Canada",
                                    "GDP In Trillon": "2.14"
                                },
                                {
                                    "Country Name": "Italy",
                                    "GDP In Trillon": "2.01"
                                }
                            ]
                        },
                        "text/html": [
                            "<table>",
                            "<tr><th>Country Name</th><th>GDP In Trillon</th></tr>",
                            "<tr><td>United States</td><td>25.46</td></tr>",
                            "<tr><td>China</td><td>17.96</td></tr>",
                            "<tr><td>Japan</td><td>4.23</td></tr>",
                            "<tr><td>Germany</td><td>4.07</td></tr>",
                            "<tr><td>India</td><td>3.39</td></tr>",
                            "<tr><td>United Kingdom</td><td>3.07</td></tr>",
                            "<tr><td>France</td><td>2.78</td></tr>",
                            "<tr><td>Russian Federation</td><td>2.24</td></tr>",
                            "<tr><td>Canada</td><td>2.14</td></tr>",
                            "<tr><td>Italy</td><td>2.01</td></tr>",
                            "</table>"
                        ]
                    }
                }
            ],
            "execution_count": 4
        },
        {
            "cell_type": "markdown",
            "source": [
                "## GDP Per Capita Growth Of Top 10 Economies From the Year 2000"
            ],
            "metadata": {
                "azdata_cell_guid": "b6adbfdf-4c41-4b22-8473-2ac409635651"
            },
            "attachments": {}
        },
        {
            "cell_type": "code",
            "source": [
                "Select country_Name, Year, round(GDP_Per_Capita, 0) as 'GDP Per Capita'\r\n",
                "from Countries \r\n",
                "where Country_Name in ('United States','China','Japan','Germany','India','United Kingdom','France','Russian Federation','Canada','Italy') \r\n",
                "      and year >= 2000"
            ],
            "metadata": {
                "azdata_cell_guid": "4dbf24fd-d0dc-4447-8982-de23d8df7e40",
                "language": "sql"
            },
            "outputs": [
                {
                    "output_type": "display_data",
                    "data": {
                        "text/html": "(230 rows affected)"
                    },
                    "metadata": {}
                },
                {
                    "output_type": "display_data",
                    "data": {
                        "text/html": "Total execution time: 00:00:00.016"
                    },
                    "metadata": {}
                },
                {
                    "output_type": "execute_result",
                    "metadata": {},
                    "execution_count": 5,
                    "data": {
                        "application/vnd.dataresource+json": {
                            "schema": {
                                "fields": [
                                    {
                                        "name": "country_Name"
                                    },
                                    {
                                        "name": "Year"
                                    },
                                    {
                                        "name": "GDP Per Capita"
                                    }
                                ]
                            },
                            "data": [
                                {
                                    "country_Name": "Canada",
                                    "Year": "2000",
                                    "GDP Per Capita": "24271"
                                },
                                {
                                    "country_Name": "Canada",
                                    "Year": "2001",
                                    "GDP Per Capita": "23821"
                                },
                                {
                                    "country_Name": "Canada",
                                    "Year": "2002",
                                    "GDP Per Capita": "24255"
                                },
                                {
                                    "country_Name": "Canada",
                                    "Year": "2003",
                                    "GDP Per Capita": "28300"
                                },
                                {
                                    "country_Name": "Canada",
                                    "Year": "2004",
                                    "GDP Per Capita": "32144"
                                },
                                {
                                    "country_Name": "Canada",
                                    "Year": "2005",
                                    "GDP Per Capita": "36383"
                                },
                                {
                                    "country_Name": "Canada",
                                    "Year": "2006",
                                    "GDP Per Capita": "40504"
                                },
                                {
                                    "country_Name": "Canada",
                                    "Year": "2007",
                                    "GDP Per Capita": "44660"
                                },
                                {
                                    "country_Name": "Canada",
                                    "Year": "2008",
                                    "GDP Per Capita": "46711"
                                },
                                {
                                    "country_Name": "Canada",
                                    "Year": "2009",
                                    "GDP Per Capita": "40876"
                                },
                                {
                                    "country_Name": "Canada",
                                    "Year": "2010",
                                    "GDP Per Capita": "47562"
                                },
                                {
                                    "country_Name": "Canada",
                                    "Year": "2011",
                                    "GDP Per Capita": "52224"
                                },
                                {
                                    "country_Name": "Canada",
                                    "Year": "2012",
                                    "GDP Per Capita": "52669"
                                },
                                {
                                    "country_Name": "Canada",
                                    "Year": "2013",
                                    "GDP Per Capita": "52635"
                                },
                                {
                                    "country_Name": "Canada",
                                    "Year": "2014",
                                    "GDP Per Capita": "50956"
                                },
                                {
                                    "country_Name": "Canada",
                                    "Year": "2015",
                                    "GDP Per Capita": "43596"
                                },
                                {
                                    "country_Name": "Canada",
                                    "Year": "2016",
                                    "GDP Per Capita": "42316"
                                },
                                {
                                    "country_Name": "Canada",
                                    "Year": "2017",
                                    "GDP Per Capita": "45129"
                                },
                                {
                                    "country_Name": "Canada",
                                    "Year": "2018",
                                    "GDP Per Capita": "46548"
                                },
                                {
                                    "country_Name": "Canada",
                                    "Year": "2019",
                                    "GDP Per Capita": "46374"
                                },
                                {
                                    "country_Name": "Canada",
                                    "Year": "2020",
                                    "GDP Per Capita": "43350"
                                },
                                {
                                    "country_Name": "Canada",
                                    "Year": "2021",
                                    "GDP Per Capita": "52359"
                                },
                                {
                                    "country_Name": "Canada",
                                    "Year": "2022",
                                    "GDP Per Capita": "54966"
                                },
                                {
                                    "country_Name": "China",
                                    "Year": "2000",
                                    "GDP Per Capita": "959"
                                },
                                {
                                    "country_Name": "China",
                                    "Year": "2001",
                                    "GDP Per Capita": "1053"
                                },
                                {
                                    "country_Name": "China",
                                    "Year": "2002",
                                    "GDP Per Capita": "1149"
                                },
                                {
                                    "country_Name": "China",
                                    "Year": "2003",
                                    "GDP Per Capita": "1289"
                                },
                                {
                                    "country_Name": "China",
                                    "Year": "2004",
                                    "GDP Per Capita": "1509"
                                },
                                {
                                    "country_Name": "China",
                                    "Year": "2005",
                                    "GDP Per Capita": "1753"
                                },
                                {
                                    "country_Name": "China",
                                    "Year": "2006",
                                    "GDP Per Capita": "2099"
                                },
                                {
                                    "country_Name": "China",
                                    "Year": "2007",
                                    "GDP Per Capita": "2694"
                                },
                                {
                                    "country_Name": "China",
                                    "Year": "2008",
                                    "GDP Per Capita": "3468"
                                },
                                {
                                    "country_Name": "China",
                                    "Year": "2009",
                                    "GDP Per Capita": "3832"
                                },
                                {
                                    "country_Name": "China",
                                    "Year": "2010",
                                    "GDP Per Capita": "4550"
                                },
                                {
                                    "country_Name": "China",
                                    "Year": "2011",
                                    "GDP Per Capita": "5614"
                                },
                                {
                                    "country_Name": "China",
                                    "Year": "2012",
                                    "GDP Per Capita": "6301"
                                },
                                {
                                    "country_Name": "China",
                                    "Year": "2013",
                                    "GDP Per Capita": "7020"
                                },
                                {
                                    "country_Name": "China",
                                    "Year": "2014",
                                    "GDP Per Capita": "7636"
                                },
                                {
                                    "country_Name": "China",
                                    "Year": "2015",
                                    "GDP Per Capita": "8016"
                                },
                                {
                                    "country_Name": "China",
                                    "Year": "2016",
                                    "GDP Per Capita": "8094"
                                },
                                {
                                    "country_Name": "China",
                                    "Year": "2017",
                                    "GDP Per Capita": "8817"
                                },
                                {
                                    "country_Name": "China",
                                    "Year": "2018",
                                    "GDP Per Capita": "9905"
                                },
                                {
                                    "country_Name": "China",
                                    "Year": "2019",
                                    "GDP Per Capita": "10144"
                                },
                                {
                                    "country_Name": "China",
                                    "Year": "2020",
                                    "GDP Per Capita": "10409"
                                },
                                {
                                    "country_Name": "China",
                                    "Year": "2021",
                                    "GDP Per Capita": "12618"
                                },
                                {
                                    "country_Name": "China",
                                    "Year": "2022",
                                    "GDP Per Capita": "12720"
                                },
                                {
                                    "country_Name": "France",
                                    "Year": "2000",
                                    "GDP Per Capita": "22416"
                                },
                                {
                                    "country_Name": "France",
                                    "Year": "2001",
                                    "GDP Per Capita": "22449"
                                },
                                {
                                    "country_Name": "France",
                                    "Year": "2002",
                                    "GDP Per Capita": "24288"
                                },
                                {
                                    "country_Name": "France",
                                    "Year": "2003",
                                    "GDP Per Capita": "29628"
                                },
                                {
                                    "country_Name": "France",
                                    "Year": "2004",
                                    "GDP Per Capita": "33797"
                                },
                                {
                                    "country_Name": "France",
                                    "Year": "2005",
                                    "GDP Per Capita": "34768"
                                },
                                {
                                    "country_Name": "France",
                                    "Year": "2006",
                                    "GDP Per Capita": "36470"
                                },
                                {
                                    "country_Name": "France",
                                    "Year": "2007",
                                    "GDP Per Capita": "41558"
                                },
                                {
                                    "country_Name": "France",
                                    "Year": "2008",
                                    "GDP Per Capita": "45516"
                                },
                                {
                                    "country_Name": "France",
                                    "Year": "2009",
                                    "GDP Per Capita": "41738"
                                },
                                {
                                    "country_Name": "France",
                                    "Year": "2010",
                                    "GDP Per Capita": "40676"
                                },
                                {
                                    "country_Name": "France",
                                    "Year": "2011",
                                    "GDP Per Capita": "43846"
                                },
                                {
                                    "country_Name": "France",
                                    "Year": "2012",
                                    "GDP Per Capita": "40871"
                                },
                                {
                                    "country_Name": "France",
                                    "Year": "2013",
                                    "GDP Per Capita": "42603"
                                },
                                {
                                    "country_Name": "France",
                                    "Year": "2014",
                                    "GDP Per Capita": "43069"
                                },
                                {
                                    "country_Name": "France",
                                    "Year": "2015",
                                    "GDP Per Capita": "36653"
                                },
                                {
                                    "country_Name": "France",
                                    "Year": "2016",
                                    "GDP Per Capita": "37063"
                                },
                                {
                                    "country_Name": "France",
                                    "Year": "2017",
                                    "GDP Per Capita": "38781"
                                },
                                {
                                    "country_Name": "France",
                                    "Year": "2018",
                                    "GDP Per Capita": "41558"
                                },
                                {
                                    "country_Name": "France",
                                    "Year": "2019",
                                    "GDP Per Capita": "40495"
                                },
                                {
                                    "country_Name": "France",
                                    "Year": "2020",
                                    "GDP Per Capita": "39055"
                                },
                                {
                                    "country_Name": "France",
                                    "Year": "2021",
                                    "GDP Per Capita": "43659"
                                },
                                {
                                    "country_Name": "France",
                                    "Year": "2022",
                                    "GDP Per Capita": "40964"
                                },
                                {
                                    "country_Name": "Germany",
                                    "Year": "2000",
                                    "GDP Per Capita": "23695"
                                },
                                {
                                    "country_Name": "Germany",
                                    "Year": "2001",
                                    "GDP Per Capita": "23628"
                                },
                                {
                                    "country_Name": "Germany",
                                    "Year": "2002",
                                    "GDP Per Capita": "25197"
                                },
                                {
                                    "country_Name": "Germany",
                                    "Year": "2003",
                                    "GDP Per Capita": "30310"
                                },
                                {
                                    "country_Name": "Germany",
                                    "Year": "2004",
                                    "GDP Per Capita": "34107"
                                },
                                {
                                    "country_Name": "Germany",
                                    "Year": "2005",
                                    "GDP Per Capita": "34520"
                                },
                                {
                                    "country_Name": "Germany",
                                    "Year": "2006",
                                    "GDP Per Capita": "36354"
                                },
                                {
                                    "country_Name": "Germany",
                                    "Year": "2007",
                                    "GDP Per Capita": "41640"
                                },
                                {
                                    "country_Name": "Germany",
                                    "Year": "2008",
                                    "GDP Per Capita": "45613"
                                },
                                {
                                    "country_Name": "Germany",
                                    "Year": "2009",
                                    "GDP Per Capita": "41650"
                                },
                                {
                                    "country_Name": "Germany",
                                    "Year": "2010",
                                    "GDP Per Capita": "41572"
                                },
                                {
                                    "country_Name": "Germany",
                                    "Year": "2011",
                                    "GDP Per Capita": "46706"
                                },
                                {
                                    "country_Name": "Germany",
                                    "Year": "2012",
                                    "GDP Per Capita": "43856"
                                },
                                {
                                    "country_Name": "Germany",
                                    "Year": "2013",
                                    "GDP Per Capita": "46299"
                                },
                                {
                                    "country_Name": "Germany",
                                    "Year": "2014",
                                    "GDP Per Capita": "48024"
                                },
                                {
                                    "country_Name": "Germany",
                                    "Year": "2015",
                                    "GDP Per Capita": "41103"
                                },
                                {
                                    "country_Name": "Germany",
                                    "Year": "2016",
                                    "GDP Per Capita": "42136"
                                },
                                {
                                    "country_Name": "Germany",
                                    "Year": "2017",
                                    "GDP Per Capita": "44653"
                                },
                                {
                                    "country_Name": "Germany",
                                    "Year": "2018",
                                    "GDP Per Capita": "47939"
                                },
                                {
                                    "country_Name": "Germany",
                                    "Year": "2019",
                                    "GDP Per Capita": "46794"
                                },
                                {
                                    "country_Name": "Germany",
                                    "Year": "2020",
                                    "GDP Per Capita": "46773"
                                },
                                {
                                    "country_Name": "Germany",
                                    "Year": "2021",
                                    "GDP Per Capita": "51204"
                                },
                                {
                                    "country_Name": "Germany",
                                    "Year": "2022",
                                    "GDP Per Capita": "48432"
                                },
                                {
                                    "country_Name": "India",
                                    "Year": "2000",
                                    "GDP Per Capita": "442"
                                },
                                {
                                    "country_Name": "India",
                                    "Year": "2001",
                                    "GDP Per Capita": "450"
                                },
                                {
                                    "country_Name": "India",
                                    "Year": "2002",
                                    "GDP Per Capita": "469"
                                },
                                {
                                    "country_Name": "India",
                                    "Year": "2003",
                                    "GDP Per Capita": "544"
                                },
                                {
                                    "country_Name": "India",
                                    "Year": "2004",
                                    "GDP Per Capita": "624"
                                },
                                {
                                    "country_Name": "India",
                                    "Year": "2005",
                                    "GDP Per Capita": "711"
                                },
                                {
                                    "country_Name": "India",
                                    "Year": "2006",
                                    "GDP Per Capita": "802"
                                },
                                {
                                    "country_Name": "India",
                                    "Year": "2007",
                                    "GDP Per Capita": "1023"
                                },
                                {
                                    "country_Name": "India",
                                    "Year": "2008",
                                    "GDP Per Capita": "994"
                                },
                                {
                                    "country_Name": "India",
                                    "Year": "2009",
                                    "GDP Per Capita": "1097"
                                },
                                {
                                    "country_Name": "India",
                                    "Year": "2010",
                                    "GDP Per Capita": "1351"
                                },
                                {
                                    "country_Name": "India",
                                    "Year": "2011",
                                    "GDP Per Capita": "1450"
                                },
                                {
                                    "country_Name": "India",
                                    "Year": "2012",
                                    "GDP Per Capita": "1434"
                                },
                                {
                                    "country_Name": "India",
                                    "Year": "2013",
                                    "GDP Per Capita": "1438"
                                },
                                {
                                    "country_Name": "India",
                                    "Year": "2014",
                                    "GDP Per Capita": "1560"
                                },
                                {
                                    "country_Name": "India",
                                    "Year": "2015",
                                    "GDP Per Capita": "1590"
                                },
                                {
                                    "country_Name": "India",
                                    "Year": "2016",
                                    "GDP Per Capita": "1714"
                                },
                                {
                                    "country_Name": "India",
                                    "Year": "2017",
                                    "GDP Per Capita": "1958"
                                },
                                {
                                    "country_Name": "India",
                                    "Year": "2018",
                                    "GDP Per Capita": "1974"
                                },
                                {
                                    "country_Name": "India",
                                    "Year": "2019",
                                    "GDP Per Capita": "2050"
                                },
                                {
                                    "country_Name": "India",
                                    "Year": "2020",
                                    "GDP Per Capita": "1913"
                                },
                                {
                                    "country_Name": "India",
                                    "Year": "2021",
                                    "GDP Per Capita": "2238"
                                },
                                {
                                    "country_Name": "India",
                                    "Year": "2022",
                                    "GDP Per Capita": "2389"
                                },
                                {
                                    "country_Name": "Italy",
                                    "Year": "2000",
                                    "GDP Per Capita": "20138"
                                },
                                {
                                    "country_Name": "Italy",
                                    "Year": "2001",
                                    "GDP Per Capita": "20501"
                                },
                                {
                                    "country_Name": "Italy",
                                    "Year": "2002",
                                    "GDP Per Capita": "22376"
                                },
                                {
                                    "country_Name": "Italy",
                                    "Year": "2003",
                                    "GDP Per Capita": "27526"
                                },
                                {
                                    "country_Name": "Italy",
                                    "Year": "2004",
                                    "GDP Per Capita": "31317"
                                },
                                {
                                    "country_Name": "Italy",
                                    "Year": "2005",
                                    "GDP Per Capita": "32055"
                                },
                                {
                                    "country_Name": "Italy",
                                    "Year": "2006",
                                    "GDP Per Capita": "33530"
                                },
                                {
                                    "country_Name": "Italy",
                                    "Year": "2007",
                                    "GDP Per Capita": "37871"
                                },
                                {
                                    "country_Name": "Italy",
                                    "Year": "2008",
                                    "GDP Per Capita": "40945"
                                },
                                {
                                    "country_Name": "Italy",
                                    "Year": "2009",
                                    "GDP Per Capita": "37227"
                                },
                                {
                                    "country_Name": "Italy",
                                    "Year": "2010",
                                    "GDP Per Capita": "36036"
                                },
                                {
                                    "country_Name": "Italy",
                                    "Year": "2011",
                                    "GDP Per Capita": "38650"
                                },
                                {
                                    "country_Name": "Italy",
                                    "Year": "2012",
                                    "GDP Per Capita": "35052"
                                },
                                {
                                    "country_Name": "Italy",
                                    "Year": "2013",
                                    "GDP Per Capita": "35560"
                                },
                                {
                                    "country_Name": "Italy",
                                    "Year": "2014",
                                    "GDP Per Capita": "35566"
                                },
                                {
                                    "country_Name": "Italy",
                                    "Year": "2015",
                                    "GDP Per Capita": "30242"
                                },
                                {
                                    "country_Name": "Italy",
                                    "Year": "2016",
                                    "GDP Per Capita": "30961"
                                },
                                {
                                    "country_Name": "Italy",
                                    "Year": "2017",
                                    "GDP Per Capita": "32407"
                                },
                                {
                                    "country_Name": "Italy",
                                    "Year": "2018",
                                    "GDP Per Capita": "34622"
                                },
                                {
                                    "country_Name": "Italy",
                                    "Year": "2019",
                                    "GDP Per Capita": "33674"
                                },
                                {
                                    "country_Name": "Italy",
                                    "Year": "2020",
                                    "GDP Per Capita": "31919"
                                },
                                {
                                    "country_Name": "Italy",
                                    "Year": "2021",
                                    "GDP Per Capita": "35770"
                                },
                                {
                                    "country_Name": "Italy",
                                    "Year": "2022",
                                    "GDP Per Capita": "34158"
                                },
                                {
                                    "country_Name": "Japan",
                                    "Year": "2000",
                                    "GDP Per Capita": "39169"
                                },
                                {
                                    "country_Name": "Japan",
                                    "Year": "2001",
                                    "GDP Per Capita": "34406"
                                },
                                {
                                    "country_Name": "Japan",
                                    "Year": "2002",
                                    "GDP Per Capita": "32821"
                                },
                                {
                                    "country_Name": "Japan",
                                    "Year": "2003",
                                    "GDP Per Capita": "35387"
                                },
                                {
                                    "country_Name": "Japan",
                                    "Year": "2004",
                                    "GDP Per Capita": "38299"
                                },
                                {
                                    "country_Name": "Japan",
                                    "Year": "2005",
                                    "GDP Per Capita": "37813"
                                },
                                {
                                    "country_Name": "Japan",
                                    "Year": "2006",
                                    "GDP Per Capita": "35992"
                                },
                                {
                                    "country_Name": "Japan",
                                    "Year": "2007",
                                    "GDP Per Capita": "35779"
                                },
                                {
                                    "country_Name": "Japan",
                                    "Year": "2008",
                                    "GDP Per Capita": "39876"
                                },
                                {
                                    "country_Name": "Japan",
                                    "Year": "2009",
                                    "GDP Per Capita": "41309"
                                },
                                {
                                    "country_Name": "Japan",
                                    "Year": "2010",
                                    "GDP Per Capita": "44968"
                                },
                                {
                                    "country_Name": "Japan",
                                    "Year": "2011",
                                    "GDP Per Capita": "48760"
                                },
                                {
                                    "country_Name": "Japan",
                                    "Year": "2012",
                                    "GDP Per Capita": "49145"
                                },
                                {
                                    "country_Name": "Japan",
                                    "Year": "2013",
                                    "GDP Per Capita": "40899"
                                },
                                {
                                    "country_Name": "Japan",
                                    "Year": "2014",
                                    "GDP Per Capita": "38475"
                                },
                                {
                                    "country_Name": "Japan",
                                    "Year": "2015",
                                    "GDP Per Capita": "34961"
                                },
                                {
                                    "country_Name": "Japan",
                                    "Year": "2016",
                                    "GDP Per Capita": "39375"
                                },
                                {
                                    "country_Name": "Japan",
                                    "Year": "2017",
                                    "GDP Per Capita": "38834"
                                },
                                {
                                    "country_Name": "Japan",
                                    "Year": "2018",
                                    "GDP Per Capita": "39751"
                                },
                                {
                                    "country_Name": "Japan",
                                    "Year": "2019",
                                    "GDP Per Capita": "40416"
                                },
                                {
                                    "country_Name": "Japan",
                                    "Year": "2020",
                                    "GDP Per Capita": "39987"
                                },
                                {
                                    "country_Name": "Japan",
                                    "Year": "2021",
                                    "GDP Per Capita": "39827"
                                },
                                {
                                    "country_Name": "Japan",
                                    "Year": "2022",
                                    "GDP Per Capita": "33815"
                                },
                                {
                                    "country_Name": "Russian Federation",
                                    "Year": "2000",
                                    "GDP Per Capita": "1772"
                                },
                                {
                                    "country_Name": "Russian Federation",
                                    "Year": "2001",
                                    "GDP Per Capita": "2100"
                                },
                                {
                                    "country_Name": "Russian Federation",
                                    "Year": "2002",
                                    "GDP Per Capita": "2378"
                                },
                                {
                                    "country_Name": "Russian Federation",
                                    "Year": "2003",
                                    "GDP Per Capita": "2975"
                                },
                                {
                                    "country_Name": "Russian Federation",
                                    "Year": "2004",
                                    "GDP Per Capita": "4102"
                                },
                                {
                                    "country_Name": "Russian Federation",
                                    "Year": "2005",
                                    "GDP Per Capita": "5323"
                                },
                                {
                                    "country_Name": "Russian Federation",
                                    "Year": "2006",
                                    "GDP Per Capita": "6920"
                                },
                                {
                                    "country_Name": "Russian Federation",
                                    "Year": "2007",
                                    "GDP Per Capita": "9101"
                                },
                                {
                                    "country_Name": "Russian Federation",
                                    "Year": "2008",
                                    "GDP Per Capita": "11635"
                                },
                                {
                                    "country_Name": "Russian Federation",
                                    "Year": "2009",
                                    "GDP Per Capita": "8563"
                                },
                                {
                                    "country_Name": "Russian Federation",
                                    "Year": "2010",
                                    "GDP Per Capita": "10675"
                                },
                                {
                                    "country_Name": "Russian Federation",
                                    "Year": "2011",
                                    "GDP Per Capita": "14311"
                                },
                                {
                                    "country_Name": "Russian Federation",
                                    "Year": "2012",
                                    "GDP Per Capita": "15421"
                                },
                                {
                                    "country_Name": "Russian Federation",
                                    "Year": "2013",
                                    "GDP Per Capita": "15975"
                                },
                                {
                                    "country_Name": "Russian Federation",
                                    "Year": "2014",
                                    "GDP Per Capita": "14318"
                                },
                                {
                                    "country_Name": "Russian Federation",
                                    "Year": "2015",
                                    "GDP Per Capita": "9462"
                                },
                                {
                                    "country_Name": "Russian Federation",
                                    "Year": "2016",
                                    "GDP Per Capita": "8846"
                                },
                                {
                                    "country_Name": "Russian Federation",
                                    "Year": "2017",
                                    "GDP Per Capita": "10894"
                                },
                                {
                                    "country_Name": "Russian Federation",
                                    "Year": "2018",
                                    "GDP Per Capita": "11471"
                                },
                                {
                                    "country_Name": "Russian Federation",
                                    "Year": "2019",
                                    "GDP Per Capita": "11725"
                                },
                                {
                                    "country_Name": "Russian Federation",
                                    "Year": "2020",
                                    "GDP Per Capita": "10363"
                                },
                                {
                                    "country_Name": "Russian Federation",
                                    "Year": "2021",
                                    "GDP Per Capita": "12805"
                                },
                                {
                                    "country_Name": "Russian Federation",
                                    "Year": "2022",
                                    "GDP Per Capita": "15607"
                                },
                                {
                                    "country_Name": "United Kingdom",
                                    "Year": "2000",
                                    "GDP Per Capita": "28290"
                                },
                                {
                                    "country_Name": "United Kingdom",
                                    "Year": "2001",
                                    "GDP Per Capita": "27889"
                                },
                                {
                                    "country_Name": "United Kingdom",
                                    "Year": "2002",
                                    "GDP Per Capita": "30079"
                                },
                                {
                                    "country_Name": "United Kingdom",
                                    "Year": "2003",
                                    "GDP Per Capita": "34481"
                                },
                                {
                                    "country_Name": "United Kingdom",
                                    "Year": "2004",
                                    "GDP Per Capita": "40392"
                                },
                                {
                                    "country_Name": "United Kingdom",
                                    "Year": "2005",
                                    "GDP Per Capita": "42132"
                                },
                                {
                                    "country_Name": "United Kingdom",
                                    "Year": "2006",
                                    "GDP Per Capita": "44538"
                                },
                                {
                                    "country_Name": "United Kingdom",
                                    "Year": "2007",
                                    "GDP Per Capita": "50438"
                                },
                                {
                                    "country_Name": "United Kingdom",
                                    "Year": "2008",
                                    "GDP Per Capita": "47433"
                                },
                                {
                                    "country_Name": "United Kingdom",
                                    "Year": "2009",
                                    "GDP Per Capita": "38820"
                                },
                                {
                                    "country_Name": "United Kingdom",
                                    "Year": "2010",
                                    "GDP Per Capita": "39693"
                                },
                                {
                                    "country_Name": "United Kingdom",
                                    "Year": "2011",
                                    "GDP Per Capita": "42151"
                                },
                                {
                                    "country_Name": "United Kingdom",
                                    "Year": "2012",
                                    "GDP Per Capita": "42486"
                                },
                                {
                                    "country_Name": "United Kingdom",
                                    "Year": "2013",
                                    "GDP Per Capita": "43449"
                                },
                                {
                                    "country_Name": "United Kingdom",
                                    "Year": "2014",
                                    "GDP Per Capita": "47448"
                                },
                                {
                                    "country_Name": "United Kingdom",
                                    "Year": "2015",
                                    "GDP Per Capita": "45071"
                                },
                                {
                                    "country_Name": "United Kingdom",
                                    "Year": "2016",
                                    "GDP Per Capita": "41146"
                                },
                                {
                                    "country_Name": "United Kingdom",
                                    "Year": "2017",
                                    "GDP Per Capita": "40623"
                                },
                                {
                                    "country_Name": "United Kingdom",
                                    "Year": "2018",
                                    "GDP Per Capita": "43306"
                                },
                                {
                                    "country_Name": "United Kingdom",
                                    "Year": "2019",
                                    "GDP Per Capita": "42747"
                                },
                                {
                                    "country_Name": "United Kingdom",
                                    "Year": "2020",
                                    "GDP Per Capita": "40318"
                                },
                                {
                                    "country_Name": "United Kingdom",
                                    "Year": "2021",
                                    "GDP Per Capita": "46586"
                                },
                                {
                                    "country_Name": "United Kingdom",
                                    "Year": "2022",
                                    "GDP Per Capita": "45850"
                                },
                                {
                                    "country_Name": "United States",
                                    "Year": "2000",
                                    "GDP Per Capita": "36330"
                                },
                                {
                                    "country_Name": "United States",
                                    "Year": "2001",
                                    "GDP Per Capita": "37134"
                                },
                                {
                                    "country_Name": "United States",
                                    "Year": "2002",
                                    "GDP Per Capita": "37998"
                                },
                                {
                                    "country_Name": "United States",
                                    "Year": "2003",
                                    "GDP Per Capita": "39490"
                                },
                                {
                                    "country_Name": "United States",
                                    "Year": "2004",
                                    "GDP Per Capita": "41725"
                                },
                                {
                                    "country_Name": "United States",
                                    "Year": "2005",
                                    "GDP Per Capita": "44123"
                                },
                                {
                                    "country_Name": "United States",
                                    "Year": "2006",
                                    "GDP Per Capita": "46302"
                                },
                                {
                                    "country_Name": "United States",
                                    "Year": "2007",
                                    "GDP Per Capita": "48050"
                                },
                                {
                                    "country_Name": "United States",
                                    "Year": "2008",
                                    "GDP Per Capita": "48570"
                                },
                                {
                                    "country_Name": "United States",
                                    "Year": "2009",
                                    "GDP Per Capita": "47195"
                                },
                                {
                                    "country_Name": "United States",
                                    "Year": "2010",
                                    "GDP Per Capita": "48651"
                                },
                                {
                                    "country_Name": "United States",
                                    "Year": "2011",
                                    "GDP Per Capita": "50066"
                                },
                                {
                                    "country_Name": "United States",
                                    "Year": "2012",
                                    "GDP Per Capita": "51784"
                                },
                                {
                                    "country_Name": "United States",
                                    "Year": "2013",
                                    "GDP Per Capita": "53291"
                                },
                                {
                                    "country_Name": "United States",
                                    "Year": "2014",
                                    "GDP Per Capita": "55124"
                                },
                                {
                                    "country_Name": "United States",
                                    "Year": "2015",
                                    "GDP Per Capita": "56763"
                                },
                                {
                                    "country_Name": "United States",
                                    "Year": "2016",
                                    "GDP Per Capita": "57867"
                                },
                                {
                                    "country_Name": "United States",
                                    "Year": "2017",
                                    "GDP Per Capita": "59908"
                                },
                                {
                                    "country_Name": "United States",
                                    "Year": "2018",
                                    "GDP Per Capita": "62823"
                                },
                                {
                                    "country_Name": "United States",
                                    "Year": "2019",
                                    "GDP Per Capita": "65120"
                                },
                                {
                                    "country_Name": "United States",
                                    "Year": "2020",
                                    "GDP Per Capita": "63529"
                                },
                                {
                                    "country_Name": "United States",
                                    "Year": "2021",
                                    "GDP Per Capita": "70219"
                                },
                                {
                                    "country_Name": "United States",
                                    "Year": "2022",
                                    "GDP Per Capita": "76399"
                                }
                            ]
                        },
                        "text/html": [
                            "<table>",
                            "<tr><th>country_Name</th><th>Year</th><th>GDP Per Capita</th></tr>",
                            "<tr><td>Canada</td><td>2000</td><td>24271</td></tr>",
                            "<tr><td>Canada</td><td>2001</td><td>23821</td></tr>",
                            "<tr><td>Canada</td><td>2002</td><td>24255</td></tr>",
                            "<tr><td>Canada</td><td>2003</td><td>28300</td></tr>",
                            "<tr><td>Canada</td><td>2004</td><td>32144</td></tr>",
                            "<tr><td>Canada</td><td>2005</td><td>36383</td></tr>",
                            "<tr><td>Canada</td><td>2006</td><td>40504</td></tr>",
                            "<tr><td>Canada</td><td>2007</td><td>44660</td></tr>",
                            "<tr><td>Canada</td><td>2008</td><td>46711</td></tr>",
                            "<tr><td>Canada</td><td>2009</td><td>40876</td></tr>",
                            "<tr><td>Canada</td><td>2010</td><td>47562</td></tr>",
                            "<tr><td>Canada</td><td>2011</td><td>52224</td></tr>",
                            "<tr><td>Canada</td><td>2012</td><td>52669</td></tr>",
                            "<tr><td>Canada</td><td>2013</td><td>52635</td></tr>",
                            "<tr><td>Canada</td><td>2014</td><td>50956</td></tr>",
                            "<tr><td>Canada</td><td>2015</td><td>43596</td></tr>",
                            "<tr><td>Canada</td><td>2016</td><td>42316</td></tr>",
                            "<tr><td>Canada</td><td>2017</td><td>45129</td></tr>",
                            "<tr><td>Canada</td><td>2018</td><td>46548</td></tr>",
                            "<tr><td>Canada</td><td>2019</td><td>46374</td></tr>",
                            "<tr><td>Canada</td><td>2020</td><td>43350</td></tr>",
                            "<tr><td>Canada</td><td>2021</td><td>52359</td></tr>",
                            "<tr><td>Canada</td><td>2022</td><td>54966</td></tr>",
                            "<tr><td>China</td><td>2000</td><td>959</td></tr>",
                            "<tr><td>China</td><td>2001</td><td>1053</td></tr>",
                            "<tr><td>China</td><td>2002</td><td>1149</td></tr>",
                            "<tr><td>China</td><td>2003</td><td>1289</td></tr>",
                            "<tr><td>China</td><td>2004</td><td>1509</td></tr>",
                            "<tr><td>China</td><td>2005</td><td>1753</td></tr>",
                            "<tr><td>China</td><td>2006</td><td>2099</td></tr>",
                            "<tr><td>China</td><td>2007</td><td>2694</td></tr>",
                            "<tr><td>China</td><td>2008</td><td>3468</td></tr>",
                            "<tr><td>China</td><td>2009</td><td>3832</td></tr>",
                            "<tr><td>China</td><td>2010</td><td>4550</td></tr>",
                            "<tr><td>China</td><td>2011</td><td>5614</td></tr>",
                            "<tr><td>China</td><td>2012</td><td>6301</td></tr>",
                            "<tr><td>China</td><td>2013</td><td>7020</td></tr>",
                            "<tr><td>China</td><td>2014</td><td>7636</td></tr>",
                            "<tr><td>China</td><td>2015</td><td>8016</td></tr>",
                            "<tr><td>China</td><td>2016</td><td>8094</td></tr>",
                            "<tr><td>China</td><td>2017</td><td>8817</td></tr>",
                            "<tr><td>China</td><td>2018</td><td>9905</td></tr>",
                            "<tr><td>China</td><td>2019</td><td>10144</td></tr>",
                            "<tr><td>China</td><td>2020</td><td>10409</td></tr>",
                            "<tr><td>China</td><td>2021</td><td>12618</td></tr>",
                            "<tr><td>China</td><td>2022</td><td>12720</td></tr>",
                            "<tr><td>France</td><td>2000</td><td>22416</td></tr>",
                            "<tr><td>France</td><td>2001</td><td>22449</td></tr>",
                            "<tr><td>France</td><td>2002</td><td>24288</td></tr>",
                            "<tr><td>France</td><td>2003</td><td>29628</td></tr>",
                            "<tr><td>France</td><td>2004</td><td>33797</td></tr>",
                            "<tr><td>France</td><td>2005</td><td>34768</td></tr>",
                            "<tr><td>France</td><td>2006</td><td>36470</td></tr>",
                            "<tr><td>France</td><td>2007</td><td>41558</td></tr>",
                            "<tr><td>France</td><td>2008</td><td>45516</td></tr>",
                            "<tr><td>France</td><td>2009</td><td>41738</td></tr>",
                            "<tr><td>France</td><td>2010</td><td>40676</td></tr>",
                            "<tr><td>France</td><td>2011</td><td>43846</td></tr>",
                            "<tr><td>France</td><td>2012</td><td>40871</td></tr>",
                            "<tr><td>France</td><td>2013</td><td>42603</td></tr>",
                            "<tr><td>France</td><td>2014</td><td>43069</td></tr>",
                            "<tr><td>France</td><td>2015</td><td>36653</td></tr>",
                            "<tr><td>France</td><td>2016</td><td>37063</td></tr>",
                            "<tr><td>France</td><td>2017</td><td>38781</td></tr>",
                            "<tr><td>France</td><td>2018</td><td>41558</td></tr>",
                            "<tr><td>France</td><td>2019</td><td>40495</td></tr>",
                            "<tr><td>France</td><td>2020</td><td>39055</td></tr>",
                            "<tr><td>France</td><td>2021</td><td>43659</td></tr>",
                            "<tr><td>France</td><td>2022</td><td>40964</td></tr>",
                            "<tr><td>Germany</td><td>2000</td><td>23695</td></tr>",
                            "<tr><td>Germany</td><td>2001</td><td>23628</td></tr>",
                            "<tr><td>Germany</td><td>2002</td><td>25197</td></tr>",
                            "<tr><td>Germany</td><td>2003</td><td>30310</td></tr>",
                            "<tr><td>Germany</td><td>2004</td><td>34107</td></tr>",
                            "<tr><td>Germany</td><td>2005</td><td>34520</td></tr>",
                            "<tr><td>Germany</td><td>2006</td><td>36354</td></tr>",
                            "<tr><td>Germany</td><td>2007</td><td>41640</td></tr>",
                            "<tr><td>Germany</td><td>2008</td><td>45613</td></tr>",
                            "<tr><td>Germany</td><td>2009</td><td>41650</td></tr>",
                            "<tr><td>Germany</td><td>2010</td><td>41572</td></tr>",
                            "<tr><td>Germany</td><td>2011</td><td>46706</td></tr>",
                            "<tr><td>Germany</td><td>2012</td><td>43856</td></tr>",
                            "<tr><td>Germany</td><td>2013</td><td>46299</td></tr>",
                            "<tr><td>Germany</td><td>2014</td><td>48024</td></tr>",
                            "<tr><td>Germany</td><td>2015</td><td>41103</td></tr>",
                            "<tr><td>Germany</td><td>2016</td><td>42136</td></tr>",
                            "<tr><td>Germany</td><td>2017</td><td>44653</td></tr>",
                            "<tr><td>Germany</td><td>2018</td><td>47939</td></tr>",
                            "<tr><td>Germany</td><td>2019</td><td>46794</td></tr>",
                            "<tr><td>Germany</td><td>2020</td><td>46773</td></tr>",
                            "<tr><td>Germany</td><td>2021</td><td>51204</td></tr>",
                            "<tr><td>Germany</td><td>2022</td><td>48432</td></tr>",
                            "<tr><td>India</td><td>2000</td><td>442</td></tr>",
                            "<tr><td>India</td><td>2001</td><td>450</td></tr>",
                            "<tr><td>India</td><td>2002</td><td>469</td></tr>",
                            "<tr><td>India</td><td>2003</td><td>544</td></tr>",
                            "<tr><td>India</td><td>2004</td><td>624</td></tr>",
                            "<tr><td>India</td><td>2005</td><td>711</td></tr>",
                            "<tr><td>India</td><td>2006</td><td>802</td></tr>",
                            "<tr><td>India</td><td>2007</td><td>1023</td></tr>",
                            "<tr><td>India</td><td>2008</td><td>994</td></tr>",
                            "<tr><td>India</td><td>2009</td><td>1097</td></tr>",
                            "<tr><td>India</td><td>2010</td><td>1351</td></tr>",
                            "<tr><td>India</td><td>2011</td><td>1450</td></tr>",
                            "<tr><td>India</td><td>2012</td><td>1434</td></tr>",
                            "<tr><td>India</td><td>2013</td><td>1438</td></tr>",
                            "<tr><td>India</td><td>2014</td><td>1560</td></tr>",
                            "<tr><td>India</td><td>2015</td><td>1590</td></tr>",
                            "<tr><td>India</td><td>2016</td><td>1714</td></tr>",
                            "<tr><td>India</td><td>2017</td><td>1958</td></tr>",
                            "<tr><td>India</td><td>2018</td><td>1974</td></tr>",
                            "<tr><td>India</td><td>2019</td><td>2050</td></tr>",
                            "<tr><td>India</td><td>2020</td><td>1913</td></tr>",
                            "<tr><td>India</td><td>2021</td><td>2238</td></tr>",
                            "<tr><td>India</td><td>2022</td><td>2389</td></tr>",
                            "<tr><td>Italy</td><td>2000</td><td>20138</td></tr>",
                            "<tr><td>Italy</td><td>2001</td><td>20501</td></tr>",
                            "<tr><td>Italy</td><td>2002</td><td>22376</td></tr>",
                            "<tr><td>Italy</td><td>2003</td><td>27526</td></tr>",
                            "<tr><td>Italy</td><td>2004</td><td>31317</td></tr>",
                            "<tr><td>Italy</td><td>2005</td><td>32055</td></tr>",
                            "<tr><td>Italy</td><td>2006</td><td>33530</td></tr>",
                            "<tr><td>Italy</td><td>2007</td><td>37871</td></tr>",
                            "<tr><td>Italy</td><td>2008</td><td>40945</td></tr>",
                            "<tr><td>Italy</td><td>2009</td><td>37227</td></tr>",
                            "<tr><td>Italy</td><td>2010</td><td>36036</td></tr>",
                            "<tr><td>Italy</td><td>2011</td><td>38650</td></tr>",
                            "<tr><td>Italy</td><td>2012</td><td>35052</td></tr>",
                            "<tr><td>Italy</td><td>2013</td><td>35560</td></tr>",
                            "<tr><td>Italy</td><td>2014</td><td>35566</td></tr>",
                            "<tr><td>Italy</td><td>2015</td><td>30242</td></tr>",
                            "<tr><td>Italy</td><td>2016</td><td>30961</td></tr>",
                            "<tr><td>Italy</td><td>2017</td><td>32407</td></tr>",
                            "<tr><td>Italy</td><td>2018</td><td>34622</td></tr>",
                            "<tr><td>Italy</td><td>2019</td><td>33674</td></tr>",
                            "<tr><td>Italy</td><td>2020</td><td>31919</td></tr>",
                            "<tr><td>Italy</td><td>2021</td><td>35770</td></tr>",
                            "<tr><td>Italy</td><td>2022</td><td>34158</td></tr>",
                            "<tr><td>Japan</td><td>2000</td><td>39169</td></tr>",
                            "<tr><td>Japan</td><td>2001</td><td>34406</td></tr>",
                            "<tr><td>Japan</td><td>2002</td><td>32821</td></tr>",
                            "<tr><td>Japan</td><td>2003</td><td>35387</td></tr>",
                            "<tr><td>Japan</td><td>2004</td><td>38299</td></tr>",
                            "<tr><td>Japan</td><td>2005</td><td>37813</td></tr>",
                            "<tr><td>Japan</td><td>2006</td><td>35992</td></tr>",
                            "<tr><td>Japan</td><td>2007</td><td>35779</td></tr>",
                            "<tr><td>Japan</td><td>2008</td><td>39876</td></tr>",
                            "<tr><td>Japan</td><td>2009</td><td>41309</td></tr>",
                            "<tr><td>Japan</td><td>2010</td><td>44968</td></tr>",
                            "<tr><td>Japan</td><td>2011</td><td>48760</td></tr>",
                            "<tr><td>Japan</td><td>2012</td><td>49145</td></tr>",
                            "<tr><td>Japan</td><td>2013</td><td>40899</td></tr>",
                            "<tr><td>Japan</td><td>2014</td><td>38475</td></tr>",
                            "<tr><td>Japan</td><td>2015</td><td>34961</td></tr>",
                            "<tr><td>Japan</td><td>2016</td><td>39375</td></tr>",
                            "<tr><td>Japan</td><td>2017</td><td>38834</td></tr>",
                            "<tr><td>Japan</td><td>2018</td><td>39751</td></tr>",
                            "<tr><td>Japan</td><td>2019</td><td>40416</td></tr>",
                            "<tr><td>Japan</td><td>2020</td><td>39987</td></tr>",
                            "<tr><td>Japan</td><td>2021</td><td>39827</td></tr>",
                            "<tr><td>Japan</td><td>2022</td><td>33815</td></tr>",
                            "<tr><td>Russian Federation</td><td>2000</td><td>1772</td></tr>",
                            "<tr><td>Russian Federation</td><td>2001</td><td>2100</td></tr>",
                            "<tr><td>Russian Federation</td><td>2002</td><td>2378</td></tr>",
                            "<tr><td>Russian Federation</td><td>2003</td><td>2975</td></tr>",
                            "<tr><td>Russian Federation</td><td>2004</td><td>4102</td></tr>",
                            "<tr><td>Russian Federation</td><td>2005</td><td>5323</td></tr>",
                            "<tr><td>Russian Federation</td><td>2006</td><td>6920</td></tr>",
                            "<tr><td>Russian Federation</td><td>2007</td><td>9101</td></tr>",
                            "<tr><td>Russian Federation</td><td>2008</td><td>11635</td></tr>",
                            "<tr><td>Russian Federation</td><td>2009</td><td>8563</td></tr>",
                            "<tr><td>Russian Federation</td><td>2010</td><td>10675</td></tr>",
                            "<tr><td>Russian Federation</td><td>2011</td><td>14311</td></tr>",
                            "<tr><td>Russian Federation</td><td>2012</td><td>15421</td></tr>",
                            "<tr><td>Russian Federation</td><td>2013</td><td>15975</td></tr>",
                            "<tr><td>Russian Federation</td><td>2014</td><td>14318</td></tr>",
                            "<tr><td>Russian Federation</td><td>2015</td><td>9462</td></tr>",
                            "<tr><td>Russian Federation</td><td>2016</td><td>8846</td></tr>",
                            "<tr><td>Russian Federation</td><td>2017</td><td>10894</td></tr>",
                            "<tr><td>Russian Federation</td><td>2018</td><td>11471</td></tr>",
                            "<tr><td>Russian Federation</td><td>2019</td><td>11725</td></tr>",
                            "<tr><td>Russian Federation</td><td>2020</td><td>10363</td></tr>",
                            "<tr><td>Russian Federation</td><td>2021</td><td>12805</td></tr>",
                            "<tr><td>Russian Federation</td><td>2022</td><td>15607</td></tr>",
                            "<tr><td>United Kingdom</td><td>2000</td><td>28290</td></tr>",
                            "<tr><td>United Kingdom</td><td>2001</td><td>27889</td></tr>",
                            "<tr><td>United Kingdom</td><td>2002</td><td>30079</td></tr>",
                            "<tr><td>United Kingdom</td><td>2003</td><td>34481</td></tr>",
                            "<tr><td>United Kingdom</td><td>2004</td><td>40392</td></tr>",
                            "<tr><td>United Kingdom</td><td>2005</td><td>42132</td></tr>",
                            "<tr><td>United Kingdom</td><td>2006</td><td>44538</td></tr>",
                            "<tr><td>United Kingdom</td><td>2007</td><td>50438</td></tr>",
                            "<tr><td>United Kingdom</td><td>2008</td><td>47433</td></tr>",
                            "<tr><td>United Kingdom</td><td>2009</td><td>38820</td></tr>",
                            "<tr><td>United Kingdom</td><td>2010</td><td>39693</td></tr>",
                            "<tr><td>United Kingdom</td><td>2011</td><td>42151</td></tr>",
                            "<tr><td>United Kingdom</td><td>2012</td><td>42486</td></tr>",
                            "<tr><td>United Kingdom</td><td>2013</td><td>43449</td></tr>",
                            "<tr><td>United Kingdom</td><td>2014</td><td>47448</td></tr>",
                            "<tr><td>United Kingdom</td><td>2015</td><td>45071</td></tr>",
                            "<tr><td>United Kingdom</td><td>2016</td><td>41146</td></tr>",
                            "<tr><td>United Kingdom</td><td>2017</td><td>40623</td></tr>",
                            "<tr><td>United Kingdom</td><td>2018</td><td>43306</td></tr>",
                            "<tr><td>United Kingdom</td><td>2019</td><td>42747</td></tr>",
                            "<tr><td>United Kingdom</td><td>2020</td><td>40318</td></tr>",
                            "<tr><td>United Kingdom</td><td>2021</td><td>46586</td></tr>",
                            "<tr><td>United Kingdom</td><td>2022</td><td>45850</td></tr>",
                            "<tr><td>United States</td><td>2000</td><td>36330</td></tr>",
                            "<tr><td>United States</td><td>2001</td><td>37134</td></tr>",
                            "<tr><td>United States</td><td>2002</td><td>37998</td></tr>",
                            "<tr><td>United States</td><td>2003</td><td>39490</td></tr>",
                            "<tr><td>United States</td><td>2004</td><td>41725</td></tr>",
                            "<tr><td>United States</td><td>2005</td><td>44123</td></tr>",
                            "<tr><td>United States</td><td>2006</td><td>46302</td></tr>",
                            "<tr><td>United States</td><td>2007</td><td>48050</td></tr>",
                            "<tr><td>United States</td><td>2008</td><td>48570</td></tr>",
                            "<tr><td>United States</td><td>2009</td><td>47195</td></tr>",
                            "<tr><td>United States</td><td>2010</td><td>48651</td></tr>",
                            "<tr><td>United States</td><td>2011</td><td>50066</td></tr>",
                            "<tr><td>United States</td><td>2012</td><td>51784</td></tr>",
                            "<tr><td>United States</td><td>2013</td><td>53291</td></tr>",
                            "<tr><td>United States</td><td>2014</td><td>55124</td></tr>",
                            "<tr><td>United States</td><td>2015</td><td>56763</td></tr>",
                            "<tr><td>United States</td><td>2016</td><td>57867</td></tr>",
                            "<tr><td>United States</td><td>2017</td><td>59908</td></tr>",
                            "<tr><td>United States</td><td>2018</td><td>62823</td></tr>",
                            "<tr><td>United States</td><td>2019</td><td>65120</td></tr>",
                            "<tr><td>United States</td><td>2020</td><td>63529</td></tr>",
                            "<tr><td>United States</td><td>2021</td><td>70219</td></tr>",
                            "<tr><td>United States</td><td>2022</td><td>76399</td></tr>",
                            "</table>"
                        ]
                    }
                }
            ],
            "execution_count": 5
        },
        {
            "cell_type": "markdown",
            "source": [
                "## Educational Spendings Per Capita"
            ],
            "metadata": {
                "azdata_cell_guid": "24bc66b0-20b0-41ea-93b5-d45a706590bb"
            },
            "attachments": {}
        },
        {
            "cell_type": "code",
            "source": [
                "With Top_10 as\r\n",
                "(\r\n",
                "Select *\r\n",
                "from Countries \r\n",
                "where Country_Name in ('United States','China','Japan','Germany','India','United Kingdom','France','Russian Federation','Canada','Italy') and year = 2022\r\n",
                ")\r\n",
                "Select Country_Name, round(Education_Expenditure/Population,0) as 'Educational Spending Per Person' from Top_10\r\n",
                "order by 2 desc\r\n",
                ""
            ],
            "metadata": {
                "azdata_cell_guid": "588f472c-58a2-4a08-bbe2-ae30313db248",
                "language": "sql"
            },
            "outputs": [
                {
                    "output_type": "display_data",
                    "data": {
                        "text/html": "(10 rows affected)"
                    },
                    "metadata": {}
                },
                {
                    "output_type": "display_data",
                    "data": {
                        "text/html": "Total execution time: 00:00:00.013"
                    },
                    "metadata": {}
                },
                {
                    "output_type": "execute_result",
                    "metadata": {},
                    "execution_count": 7,
                    "data": {
                        "application/vnd.dataresource+json": {
                            "schema": {
                                "fields": [
                                    {
                                        "name": "Country_Name"
                                    },
                                    {
                                        "name": "Educational Spending Per Person"
                                    }
                                ]
                            },
                            "data": [
                                {
                                    "Country_Name": "United States",
                                    "Educational Spending Per Person": "11005"
                                },
                                {
                                    "Country_Name": "Canada",
                                    "Educational Spending Per Person": "6641"
                                },
                                {
                                    "Country_Name": "United Kingdom",
                                    "Educational Spending Per Person": "5871"
                                },
                                {
                                    "Country_Name": "Germany",
                                    "Educational Spending Per Person": "5119"
                                },
                                {
                                    "Country_Name": "France",
                                    "Educational Spending Per Person": "3961"
                                },
                                {
                                    "Country_Name": "Italy",
                                    "Educational Spending Per Person": "2974"
                                },
                                {
                                    "Country_Name": "Japan",
                                    "Educational Spending Per Person": "2791"
                                },
                                {
                                    "Country_Name": "Russian Federation",
                                    "Educational Spending Per Person": "1752"
                                },
                                {
                                    "Country_Name": "China",
                                    "Educational Spending Per Person": "1526"
                                },
                                {
                                    "Country_Name": "India",
                                    "Educational Spending Per Person": "336"
                                }
                            ]
                        },
                        "text/html": [
                            "<table>",
                            "<tr><th>Country_Name</th><th>Educational Spending Per Person</th></tr>",
                            "<tr><td>United States</td><td>11005</td></tr>",
                            "<tr><td>Canada</td><td>6641</td></tr>",
                            "<tr><td>United Kingdom</td><td>5871</td></tr>",
                            "<tr><td>Germany</td><td>5119</td></tr>",
                            "<tr><td>France</td><td>3961</td></tr>",
                            "<tr><td>Italy</td><td>2974</td></tr>",
                            "<tr><td>Japan</td><td>2791</td></tr>",
                            "<tr><td>Russian Federation</td><td>1752</td></tr>",
                            "<tr><td>China</td><td>1526</td></tr>",
                            "<tr><td>India</td><td>336</td></tr>",
                            "</table>"
                        ]
                    }
                }
            ],
            "execution_count": 7
        },
        {
            "cell_type": "markdown",
            "source": [
                "## GDP per Capita Of Top 10 Economies in Year 2022"
            ],
            "metadata": {
                "azdata_cell_guid": "ae86137b-f03c-4416-8b2a-359efaac33a0"
            },
            "attachments": {}
        },
        {
            "cell_type": "code",
            "source": [
                "Select Country_Name, round(GDP_Per_Capita,0) as 'GDP Per Capita'\r\n",
                "from Countries \r\n",
                "where Country_Name in ('United States','China','Japan','Germany','India','United Kingdom','France','Russian Federation','Canada','Italy') \r\n",
                "      and year = 2022\r\n",
                "Order by 2 desc"
            ],
            "metadata": {
                "azdata_cell_guid": "ced384a2-8374-43db-a3f3-f218810845a1",
                "language": "sql"
            },
            "outputs": [
                {
                    "output_type": "display_data",
                    "data": {
                        "text/html": "(10 rows affected)"
                    },
                    "metadata": {}
                },
                {
                    "output_type": "display_data",
                    "data": {
                        "text/html": "Total execution time: 00:00:00.022"
                    },
                    "metadata": {}
                },
                {
                    "output_type": "execute_result",
                    "metadata": {},
                    "execution_count": 12,
                    "data": {
                        "application/vnd.dataresource+json": {
                            "schema": {
                                "fields": [
                                    {
                                        "name": "Country_Name"
                                    },
                                    {
                                        "name": "GDP Per Capita"
                                    }
                                ]
                            },
                            "data": [
                                {
                                    "Country_Name": "United States",
                                    "GDP Per Capita": "76399"
                                },
                                {
                                    "Country_Name": "Canada",
                                    "GDP Per Capita": "54966"
                                },
                                {
                                    "Country_Name": "Germany",
                                    "GDP Per Capita": "48432"
                                },
                                {
                                    "Country_Name": "United Kingdom",
                                    "GDP Per Capita": "45850"
                                },
                                {
                                    "Country_Name": "France",
                                    "GDP Per Capita": "40964"
                                },
                                {
                                    "Country_Name": "Italy",
                                    "GDP Per Capita": "34158"
                                },
                                {
                                    "Country_Name": "Japan",
                                    "GDP Per Capita": "33815"
                                },
                                {
                                    "Country_Name": "Russian Federation",
                                    "GDP Per Capita": "15607"
                                },
                                {
                                    "Country_Name": "China",
                                    "GDP Per Capita": "12720"
                                },
                                {
                                    "Country_Name": "India",
                                    "GDP Per Capita": "2389"
                                }
                            ]
                        },
                        "text/html": [
                            "<table>",
                            "<tr><th>Country_Name</th><th>GDP Per Capita</th></tr>",
                            "<tr><td>United States</td><td>76399</td></tr>",
                            "<tr><td>Canada</td><td>54966</td></tr>",
                            "<tr><td>Germany</td><td>48432</td></tr>",
                            "<tr><td>United Kingdom</td><td>45850</td></tr>",
                            "<tr><td>France</td><td>40964</td></tr>",
                            "<tr><td>Italy</td><td>34158</td></tr>",
                            "<tr><td>Japan</td><td>33815</td></tr>",
                            "<tr><td>Russian Federation</td><td>15607</td></tr>",
                            "<tr><td>China</td><td>12720</td></tr>",
                            "<tr><td>India</td><td>2389</td></tr>",
                            "</table>"
                        ]
                    }
                }
            ],
            "execution_count": 12
        },
        {
            "cell_type": "markdown",
            "source": [
                "## Import, Export, and Net-Trade In Million"
            ],
            "metadata": {
                "azdata_cell_guid": "6ca47fe5-c7a4-4090-abc0-fdea867963e1"
            },
            "attachments": {}
        },
        {
            "cell_type": "code",
            "source": [
                "with top_10_economies as\r\n",
                "(\r\n",
                "Select TOP 10 *\r\n",
                "From Countries\r\n",
                "Where year = 2022\r\n",
                "order by GDP desc\r\n",
                ")\r\n",
                "\r\n",
                "Select Country_Name, \r\n",
                "       round(Import/1000000000,0) as 'Import In Million', \r\n",
                "       round(Export/1000000000,0) as 'Export In Million',\r\n",
                "\t   round((Export-Import)/1000000000,0) as 'Net Trade In Million'\r\n",
                "from top_10_economies"
            ],
            "metadata": {
                "azdata_cell_guid": "d5e2340f-af10-4ee9-9283-cfe73c75cad8",
                "language": "sql"
            },
            "outputs": [
                {
                    "output_type": "display_data",
                    "data": {
                        "text/html": "(10 rows affected)"
                    },
                    "metadata": {}
                },
                {
                    "output_type": "display_data",
                    "data": {
                        "text/html": "Total execution time: 00:00:00.013"
                    },
                    "metadata": {}
                },
                {
                    "output_type": "execute_result",
                    "metadata": {},
                    "execution_count": 14,
                    "data": {
                        "application/vnd.dataresource+json": {
                            "schema": {
                                "fields": [
                                    {
                                        "name": "Country_Name"
                                    },
                                    {
                                        "name": "Import In Million"
                                    },
                                    {
                                        "name": "Export In Million"
                                    },
                                    {
                                        "name": "Net Trade In Million"
                                    }
                                ]
                            },
                            "data": [
                                {
                                    "Country_Name": "United States",
                                    "Import In Million": "3874",
                                    "Export In Million": "2920",
                                    "Net Trade In Million": "-954"
                                },
                                {
                                    "Country_Name": "China",
                                    "Import In Million": "3138",
                                    "Export In Million": "3714",
                                    "Net Trade In Million": "577"
                                },
                                {
                                    "Country_Name": "Japan",
                                    "Import In Million": "623",
                                    "Export In Million": "635",
                                    "Net Trade In Million": "11"
                                },
                                {
                                    "Country_Name": "Germany",
                                    "Import In Million": "1966",
                                    "Export In Million": "2050",
                                    "Net Trade In Million": "84"
                                },
                                {
                                    "Country_Name": "India",
                                    "Import In Million": "911",
                                    "Export In Million": "760",
                                    "Net Trade In Million": "-151"
                                },
                                {
                                    "Country_Name": "United Kingdom",
                                    "Import In Million": "1112",
                                    "Export In Million": "1005",
                                    "Net Trade In Million": "-107"
                                },
                                {
                                    "Country_Name": "France",
                                    "Import In Million": "1061",
                                    "Export In Million": "947",
                                    "Net Trade In Million": "-115"
                                },
                                {
                                    "Country_Name": "Russian Federation",
                                    "Import In Million": "349",
                                    "Export In Million": "632",
                                    "Net Trade In Million": "282"
                                },
                                {
                                    "Country_Name": "Canada",
                                    "Import In Million": "718",
                                    "Export In Million": "722",
                                    "Net Trade In Million": "4"
                                },
                                {
                                    "Country_Name": "Italy",
                                    "Import In Million": "778",
                                    "Export In Million": "747",
                                    "Net Trade In Million": "-31"
                                }
                            ]
                        },
                        "text/html": [
                            "<table>",
                            "<tr><th>Country_Name</th><th>Import In Million</th><th>Export In Million</th><th>Net Trade In Million</th></tr>",
                            "<tr><td>United States</td><td>3874</td><td>2920</td><td>-954</td></tr>",
                            "<tr><td>China</td><td>3138</td><td>3714</td><td>577</td></tr>",
                            "<tr><td>Japan</td><td>623</td><td>635</td><td>11</td></tr>",
                            "<tr><td>Germany</td><td>1966</td><td>2050</td><td>84</td></tr>",
                            "<tr><td>India</td><td>911</td><td>760</td><td>-151</td></tr>",
                            "<tr><td>United Kingdom</td><td>1112</td><td>1005</td><td>-107</td></tr>",
                            "<tr><td>France</td><td>1061</td><td>947</td><td>-115</td></tr>",
                            "<tr><td>Russian Federation</td><td>349</td><td>632</td><td>282</td></tr>",
                            "<tr><td>Canada</td><td>718</td><td>722</td><td>4</td></tr>",
                            "<tr><td>Italy</td><td>778</td><td>747</td><td>-31</td></tr>",
                            "</table>"
                        ]
                    }
                }
            ],
            "execution_count": 14
        },
        {
            "cell_type": "markdown",
            "source": [
                "## Spendings On Different Sectors"
            ],
            "metadata": {
                "azdata_cell_guid": "1b420863-a76b-45f8-873d-f8168cef7dfa"
            },
            "attachments": {}
        },
        {
            "cell_type": "code",
            "source": [
                "with top_10_economies as\r\n",
                "(\r\n",
                "Select TOP 10 *\r\n",
                "From Countries\r\n",
                "Where year = 2022\r\n",
                "order by GDP desc\r\n",
                ")\r\n",
                "Select Country_Name, \r\n",
                "       round(Health_Expenditure_GDP,0) as 'Health Spendings',   \r\n",
                "\t   round(Education_Expenditure_GDP,0)'Educational Spendings', \r\n",
                "\t   round(Agriculture_GDP,0) 'Agricultural Spendings'\r\n",
                "from top_10_economies"
            ],
            "metadata": {
                "azdata_cell_guid": "033323f8-bed8-4490-b059-5b0f66b6d6c8",
                "language": "sql"
            },
            "outputs": [
                {
                    "output_type": "display_data",
                    "data": {
                        "text/html": "(10 rows affected)"
                    },
                    "metadata": {}
                },
                {
                    "output_type": "display_data",
                    "data": {
                        "text/html": "Total execution time: 00:00:00.012"
                    },
                    "metadata": {}
                },
                {
                    "output_type": "execute_result",
                    "metadata": {},
                    "execution_count": 15,
                    "data": {
                        "application/vnd.dataresource+json": {
                            "schema": {
                                "fields": [
                                    {
                                        "name": "Country_Name"
                                    },
                                    {
                                        "name": "Health Spendings"
                                    },
                                    {
                                        "name": "Educational Spendings"
                                    },
                                    {
                                        "name": "Agricultural Spendings"
                                    }
                                ]
                            },
                            "data": [
                                {
                                    "Country_Name": "United States",
                                    "Health Spendings": "16",
                                    "Educational Spendings": "14",
                                    "Agricultural Spendings": "1"
                                },
                                {
                                    "Country_Name": "China",
                                    "Health Spendings": "5",
                                    "Educational Spendings": "12",
                                    "Agricultural Spendings": "7"
                                },
                                {
                                    "Country_Name": "Japan",
                                    "Health Spendings": "9",
                                    "Educational Spendings": "8",
                                    "Agricultural Spendings": "1"
                                },
                                {
                                    "Country_Name": "Germany",
                                    "Health Spendings": "11",
                                    "Educational Spendings": "11",
                                    "Agricultural Spendings": "1"
                                },
                                {
                                    "Country_Name": "India",
                                    "Health Spendings": "4",
                                    "Educational Spendings": "14",
                                    "Agricultural Spendings": "17"
                                },
                                {
                                    "Country_Name": "United Kingdom",
                                    "Health Spendings": "9",
                                    "Educational Spendings": "13",
                                    "Agricultural Spendings": "1"
                                },
                                {
                                    "Country_Name": "France",
                                    "Health Spendings": "11",
                                    "Educational Spendings": "10",
                                    "Agricultural Spendings": "2"
                                },
                                {
                                    "Country_Name": "Russian Federation",
                                    "Health Spendings": "5",
                                    "Educational Spendings": "11",
                                    "Agricultural Spendings": "4"
                                },
                                {
                                    "Country_Name": "Canada",
                                    "Health Spendings": "10",
                                    "Educational Spendings": "12",
                                    "Agricultural Spendings": "2"
                                },
                                {
                                    "Country_Name": "Italy",
                                    "Health Spendings": "9",
                                    "Educational Spendings": "9",
                                    "Agricultural Spendings": "2"
                                }
                            ]
                        },
                        "text/html": [
                            "<table>",
                            "<tr><th>Country_Name</th><th>Health Spendings</th><th>Educational Spendings</th><th>Agricultural Spendings</th></tr>",
                            "<tr><td>United States</td><td>16</td><td>14</td><td>1</td></tr>",
                            "<tr><td>China</td><td>5</td><td>12</td><td>7</td></tr>",
                            "<tr><td>Japan</td><td>9</td><td>8</td><td>1</td></tr>",
                            "<tr><td>Germany</td><td>11</td><td>11</td><td>1</td></tr>",
                            "<tr><td>India</td><td>4</td><td>14</td><td>17</td></tr>",
                            "<tr><td>United Kingdom</td><td>9</td><td>13</td><td>1</td></tr>",
                            "<tr><td>France</td><td>11</td><td>10</td><td>2</td></tr>",
                            "<tr><td>Russian Federation</td><td>5</td><td>11</td><td>4</td></tr>",
                            "<tr><td>Canada</td><td>10</td><td>12</td><td>2</td></tr>",
                            "<tr><td>Italy</td><td>9</td><td>9</td><td>2</td></tr>",
                            "</table>"
                        ]
                    }
                }
            ],
            "execution_count": 15
        }
    ]
}